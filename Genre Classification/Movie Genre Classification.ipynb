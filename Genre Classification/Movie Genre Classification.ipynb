{
  "cells": [
    {
      "cell_type": "code",
      "execution_count": 26,
      "metadata": {
        "id": "0Jfepp24DiZt"
      },
      "outputs": [],
      "source": [
        "import pandas as pd\n",
        "from sklearn.feature_extraction.text import TfidfVectorizer\n",
        "from sklearn.svm import SVC\n",
        "from sklearn.metrics import classification_report, accuracy_score\n",
        "import nltk\n"
      ]
    },
    {
      "cell_type": "code",
      "execution_count": null,
      "metadata": {
        "colab": {
          "base_uri": "https://localhost:8080/"
        },
        "id": "Yr171fHNCNr2",
        "outputId": "da8681b2-0d2c-4074-e1b6-7f12a0736a1d"
      },
      "outputs": [
        {
          "name": "stdout",
          "output_type": "stream",
          "text": [
            "Mounted at /content/drive\n"
          ]
        }
      ],
      "source": [
        "from google.colab import drive\n",
        "drive.mount('/content/drive')"
      ]
    },
    {
      "cell_type": "code",
      "execution_count": 16,
      "metadata": {
        "colab": {
          "base_uri": "https://localhost:8080/"
        },
        "id": "_I9ptT2nEMAd",
        "outputId": "5dac8227-6538-4062-96c9-f882f596cc9f"
      },
      "outputs": [
        {
          "output_type": "stream",
          "name": "stdout",
          "text": [
            "Number of data points: 54214\n",
            "  movie_id                       movie_title     genre  \\\n",
            "0        1      Oscar et la dame rose (2009)     drama   \n",
            "1        2                      Cupid (1997)  thriller   \n",
            "2        3  Young, Wild and Wonderful (1980)     adult   \n",
            "3        4             The Secret Sin (1915)     drama   \n",
            "4        5            The Unrecovered (2007)     drama   \n",
            "\n",
            "                                        plot_summary  \n",
            "0  Listening in to a conversation between his doc...  \n",
            "1  A brother and sister with a past incestuous re...  \n",
            "2  As the bus empties the students for their fiel...  \n",
            "3  To help their unemployed father make ends meet...  \n",
            "4  The film's title refers not only to the un-rec...  \n",
            "Index(['movie_id', 'movie_title', 'genre', 'plot_summary'], dtype='object')\n"
          ]
        }
      ],
      "source": [
        "training_file = \"/content/drive/MyDrive/Genre Classification Dataset/train_data.txt\"\n",
        "\n",
        "# Read the text file line by line and parse the data\n",
        "data = []\n",
        "with open(training_file, \"r\") as file:\n",
        "    for line in file:\n",
        "        parts = line.strip().split(\":::\")\n",
        "        if len(parts) == 4:  # Ensure that the line contains all expected fields\n",
        "            movie_id, title, genre, plot_summary = parts\n",
        "            data.append([movie_id.strip(), title.strip(), genre.strip(), plot_summary.strip()])\n",
        "        else:\n",
        "            print(\"Invalid line:\", line.strip())\n",
        "\n",
        "# Print the length of the data list\n",
        "print(\"Number of data points:\", len(data))\n",
        "\n",
        "# Create a DataFrame\n",
        "train_data = pd.DataFrame(data, columns=[\"movie_id\", \"movie_title\", \"genre\", \"plot_summary\"])\n",
        "\n",
        "# Display the DataFrame\n",
        "print(train_data.head())\n",
        "print(train_data.columns)\n",
        "\n",
        "\n"
      ]
    },
    {
      "cell_type": "code",
      "execution_count": 17,
      "metadata": {
        "colab": {
          "base_uri": "https://localhost:8080/"
        },
        "id": "2xddeCkyK51u",
        "outputId": "60306201-9bc9-4f57-fd55-85eb842ec970"
      },
      "outputs": [
        {
          "output_type": "stream",
          "name": "stdout",
          "text": [
            "Number of test data points: 54200\n",
            "  movie_id                  movie_title  \\\n",
            "0        1         Edgar's Lunch (1998)   \n",
            "1        2     La guerra de papá (1977)   \n",
            "2        3  Off the Beaten Track (2010)   \n",
            "3        4       Meu Amigo Hindu (2015)   \n",
            "4        5            Er nu zhai (1955)   \n",
            "\n",
            "                                        plot_summary  \n",
            "0  L.R. Brane loves his life - his car, his apart...  \n",
            "1  Spain, March 1964: Quico is a very naughty chi...  \n",
            "2  One year in the life of Albin and his family o...  \n",
            "3  His father has died, he hasn't spoken with his...  \n",
            "4  Before he was known internationally as a marti...  \n",
            "Index(['movie_id', 'movie_title', 'plot_summary'], dtype='object')\n"
          ]
        }
      ],
      "source": [
        "testing_file = \"/content/drive/MyDrive/Genre Classification Dataset/test_data.txt\"\n",
        "\n",
        "# Read the text file line by line and parse the data\n",
        "test_data = []\n",
        "with open(testing_file , \"r\") as file:\n",
        "    for line in file:\n",
        "        parts = line.strip().split(\":::\")\n",
        "        if len(parts) == 3:  # Ensure that the line contains all expected fields\n",
        "            movie_id, title, plot_summary = parts\n",
        "            test_data.append([movie_id.strip(), title.strip(), plot_summary.strip()])\n",
        "        else:\n",
        "            print(\"Invalid line:\", line.strip())\n",
        "\n",
        "# Print the length of the test data list\n",
        "print(\"Number of test data points:\", len(test_data))\n",
        "\n",
        "# Create a DataFrame for test data\n",
        "test_df = pd.DataFrame(test_data, columns=[\"movie_id\", \"movie_title\", \"plot_summary\"])\n",
        "\n",
        "# Display the DataFrame\n",
        "print(test_df.head())\n",
        "print(test_df.columns)\n"
      ]
    },
    {
      "cell_type": "code",
      "execution_count": 18,
      "metadata": {
        "colab": {
          "base_uri": "https://localhost:8080/"
        },
        "id": "aHfF3yiTNzuJ",
        "outputId": "b40ce226-1b39-43b4-849c-24371f172a85"
      },
      "outputs": [
        {
          "output_type": "stream",
          "name": "stdout",
          "text": [
            "Number of test solution data points: 54200\n",
            "  movie_id                  movie_title        genre  \\\n",
            "0        1         Edgar's Lunch (1998)     thriller   \n",
            "1        2     La guerra de papá (1977)       comedy   \n",
            "2        3  Off the Beaten Track (2010)  documentary   \n",
            "3        4       Meu Amigo Hindu (2015)        drama   \n",
            "4        5            Er nu zhai (1955)        drama   \n",
            "\n",
            "                                        plot_summary  \n",
            "0  L.R. Brane loves his life - his car, his apart...  \n",
            "1  Spain, March 1964: Quico is a very naughty chi...  \n",
            "2  One year in the life of Albin and his family o...  \n",
            "3  His father has died, he hasn't spoken with his...  \n",
            "4  Before he was known internationally as a marti...  \n",
            "Index(['movie_id', 'movie_title', 'genre', 'plot_summary'], dtype='object')\n"
          ]
        }
      ],
      "source": [
        "testing_solutuion_file = \"/content/drive/MyDrive/Genre Classification Dataset/test_data_solution.txt\"\n",
        "# Read the text file line by line and parse the data\n",
        "test_solution_data = []\n",
        "with open(testing_solutuion_file, \"r\") as file:\n",
        "    for line in file:\n",
        "        parts = line.strip().split(\":::\")\n",
        "        if len(parts) == 4:  # Ensure that the line contains all expected fields\n",
        "            movie_id, title, genre, plot_summary = parts\n",
        "            test_solution_data.append([movie_id.strip(), title.strip(), genre.strip(), plot_summary.strip()])\n",
        "        else:\n",
        "            print(\"Invalid line:\", line.strip())\n",
        "\n",
        "# Print the length of the test solution data list\n",
        "print(\"Number of test solution data points:\", len(test_solution_data))\n",
        "\n",
        "# Create a DataFrame for test solution data\n",
        "test_solution_df = pd.DataFrame(test_solution_data, columns=[\"movie_id\", \"movie_title\", \"genre\", \"plot_summary\"])\n",
        "\n",
        "# Display the DataFrame\n",
        "print(test_solution_df.head())\n",
        "print(test_solution_df.columns)\n"
      ]
    },
    {
      "cell_type": "code",
      "execution_count": 19,
      "metadata": {
        "colab": {
          "base_uri": "https://localhost:8080/"
        },
        "id": "20K30fyePIKb",
        "outputId": "a33aa7dd-d71e-4168-9dbf-4a0733d19fdc"
      },
      "outputs": [
        {
          "output_type": "stream",
          "name": "stdout",
          "text": [
            "Shape of TF-IDF matrix for training data: (54214, 121110)\n",
            "Shape of TF-IDF matrix for test data: (54200, 121110)\n"
          ]
        }
      ],
      "source": [
        "from sklearn.feature_extraction.text import TfidfVectorizer\n",
        "\n",
        "# Initialize the TF-IDF vectorizer\n",
        "tfidf_vectorizer = TfidfVectorizer()\n",
        "X_test = test_solution_df['plot_summary'].values\n",
        "X_train = train_data['plot_summary'].values\n",
        "y_train = train_data['genre'].values\n",
        "y_test = test_solution_df['genre'].values\n",
        "\n",
        "\n",
        "# Fit the vectorizer on the training data and transform the plot summaries into TF-IDF vectors\n",
        "X_train_tfidf = tfidf_vectorizer.fit_transform(X_train)\n",
        "\n",
        "# Transform the plot summaries in the test data into TF-IDF vectors using the same vectorizer\n",
        "X_test_tfidf = tfidf_vectorizer.transform(X_test)\n",
        "\n",
        "# Print the shape of the TF-IDF matrices\n",
        "print(\"Shape of TF-IDF matrix for training data:\", X_train_tfidf.shape)\n",
        "print(\"Shape of TF-IDF matrix for test data:\", X_test_tfidf.shape)"
      ]
    },
    {
      "cell_type": "code",
      "source": [
        "from sklearn.linear_model import LogisticRegression\n",
        "\n",
        "# Initialize the Logistic Regression classifier\n",
        "lr_classifier = LogisticRegression(max_iter=3000)  # Increase max_iter if needed\n",
        "\n",
        "# Train the classifier using the TF-IDF vectors and target labels\n",
        "lr_classifier.fit(X_train_tfidf, y_train)\n"
      ],
      "metadata": {
        "colab": {
          "base_uri": "https://localhost:8080/",
          "height": 74
        },
        "id": "WdP8942MU7nL",
        "outputId": "9fb21366-8283-45ea-e105-ea348bc66857"
      },
      "execution_count": 22,
      "outputs": [
        {
          "output_type": "execute_result",
          "data": {
            "text/plain": [
              "LogisticRegression(max_iter=3000)"
            ],
            "text/html": [
              "<style>#sk-container-id-5 {color: black;background-color: white;}#sk-container-id-5 pre{padding: 0;}#sk-container-id-5 div.sk-toggleable {background-color: white;}#sk-container-id-5 label.sk-toggleable__label {cursor: pointer;display: block;width: 100%;margin-bottom: 0;padding: 0.3em;box-sizing: border-box;text-align: center;}#sk-container-id-5 label.sk-toggleable__label-arrow:before {content: \"▸\";float: left;margin-right: 0.25em;color: #696969;}#sk-container-id-5 label.sk-toggleable__label-arrow:hover:before {color: black;}#sk-container-id-5 div.sk-estimator:hover label.sk-toggleable__label-arrow:before {color: black;}#sk-container-id-5 div.sk-toggleable__content {max-height: 0;max-width: 0;overflow: hidden;text-align: left;background-color: #f0f8ff;}#sk-container-id-5 div.sk-toggleable__content pre {margin: 0.2em;color: black;border-radius: 0.25em;background-color: #f0f8ff;}#sk-container-id-5 input.sk-toggleable__control:checked~div.sk-toggleable__content {max-height: 200px;max-width: 100%;overflow: auto;}#sk-container-id-5 input.sk-toggleable__control:checked~label.sk-toggleable__label-arrow:before {content: \"▾\";}#sk-container-id-5 div.sk-estimator input.sk-toggleable__control:checked~label.sk-toggleable__label {background-color: #d4ebff;}#sk-container-id-5 div.sk-label input.sk-toggleable__control:checked~label.sk-toggleable__label {background-color: #d4ebff;}#sk-container-id-5 input.sk-hidden--visually {border: 0;clip: rect(1px 1px 1px 1px);clip: rect(1px, 1px, 1px, 1px);height: 1px;margin: -1px;overflow: hidden;padding: 0;position: absolute;width: 1px;}#sk-container-id-5 div.sk-estimator {font-family: monospace;background-color: #f0f8ff;border: 1px dotted black;border-radius: 0.25em;box-sizing: border-box;margin-bottom: 0.5em;}#sk-container-id-5 div.sk-estimator:hover {background-color: #d4ebff;}#sk-container-id-5 div.sk-parallel-item::after {content: \"\";width: 100%;border-bottom: 1px solid gray;flex-grow: 1;}#sk-container-id-5 div.sk-label:hover label.sk-toggleable__label {background-color: #d4ebff;}#sk-container-id-5 div.sk-serial::before {content: \"\";position: absolute;border-left: 1px solid gray;box-sizing: border-box;top: 0;bottom: 0;left: 50%;z-index: 0;}#sk-container-id-5 div.sk-serial {display: flex;flex-direction: column;align-items: center;background-color: white;padding-right: 0.2em;padding-left: 0.2em;position: relative;}#sk-container-id-5 div.sk-item {position: relative;z-index: 1;}#sk-container-id-5 div.sk-parallel {display: flex;align-items: stretch;justify-content: center;background-color: white;position: relative;}#sk-container-id-5 div.sk-item::before, #sk-container-id-5 div.sk-parallel-item::before {content: \"\";position: absolute;border-left: 1px solid gray;box-sizing: border-box;top: 0;bottom: 0;left: 50%;z-index: -1;}#sk-container-id-5 div.sk-parallel-item {display: flex;flex-direction: column;z-index: 1;position: relative;background-color: white;}#sk-container-id-5 div.sk-parallel-item:first-child::after {align-self: flex-end;width: 50%;}#sk-container-id-5 div.sk-parallel-item:last-child::after {align-self: flex-start;width: 50%;}#sk-container-id-5 div.sk-parallel-item:only-child::after {width: 0;}#sk-container-id-5 div.sk-dashed-wrapped {border: 1px dashed gray;margin: 0 0.4em 0.5em 0.4em;box-sizing: border-box;padding-bottom: 0.4em;background-color: white;}#sk-container-id-5 div.sk-label label {font-family: monospace;font-weight: bold;display: inline-block;line-height: 1.2em;}#sk-container-id-5 div.sk-label-container {text-align: center;}#sk-container-id-5 div.sk-container {/* jupyter's `normalize.less` sets `[hidden] { display: none; }` but bootstrap.min.css set `[hidden] { display: none !important; }` so we also need the `!important` here to be able to override the default hidden behavior on the sphinx rendered scikit-learn.org. See: https://github.com/scikit-learn/scikit-learn/issues/21755 */display: inline-block !important;position: relative;}#sk-container-id-5 div.sk-text-repr-fallback {display: none;}</style><div id=\"sk-container-id-5\" class=\"sk-top-container\"><div class=\"sk-text-repr-fallback\"><pre>LogisticRegression(max_iter=3000)</pre><b>In a Jupyter environment, please rerun this cell to show the HTML representation or trust the notebook. <br />On GitHub, the HTML representation is unable to render, please try loading this page with nbviewer.org.</b></div><div class=\"sk-container\" hidden><div class=\"sk-item\"><div class=\"sk-estimator sk-toggleable\"><input class=\"sk-toggleable__control sk-hidden--visually\" id=\"sk-estimator-id-5\" type=\"checkbox\" checked><label for=\"sk-estimator-id-5\" class=\"sk-toggleable__label sk-toggleable__label-arrow\">LogisticRegression</label><div class=\"sk-toggleable__content\"><pre>LogisticRegression(max_iter=3000)</pre></div></div></div></div></div>"
            ]
          },
          "metadata": {},
          "execution_count": 22
        }
      ]
    },
    {
      "cell_type": "code",
      "source": [
        "# Predict the labels for the test data\n",
        "y_pred_lr = lr_classifier.predict(X_test_tfidf)\n",
        "\n",
        "# Calculate accuracy\n",
        "accuracy_lr = accuracy_score(y_test, y_pred_lr)\n",
        "print(\"Accuracy (Logistic Regression):\", accuracy_lr)\n",
        "\n",
        "# Generate classification report\n",
        "print(\"Classification Report (Logistic Regression):\")\n",
        "print(classification_report(y_test, y_pred_lr))\n"
      ],
      "metadata": {
        "colab": {
          "base_uri": "https://localhost:8080/"
        },
        "id": "rsMSS7krUoaK",
        "outputId": "fe16debe-15ac-4a1d-c915-1fb01b0073fa"
      },
      "execution_count": 23,
      "outputs": [
        {
          "output_type": "stream",
          "name": "stdout",
          "text": [
            "Accuracy (Logistic Regression): 0.5907749077490775\n",
            "Classification Report (Logistic Regression):\n"
          ]
        },
        {
          "output_type": "stream",
          "name": "stderr",
          "text": [
            "/usr/local/lib/python3.10/dist-packages/sklearn/metrics/_classification.py:1344: UndefinedMetricWarning: Precision and F-score are ill-defined and being set to 0.0 in labels with no predicted samples. Use `zero_division` parameter to control this behavior.\n",
            "  _warn_prf(average, modifier, msg_start, len(result))\n",
            "/usr/local/lib/python3.10/dist-packages/sklearn/metrics/_classification.py:1344: UndefinedMetricWarning: Precision and F-score are ill-defined and being set to 0.0 in labels with no predicted samples. Use `zero_division` parameter to control this behavior.\n",
            "  _warn_prf(average, modifier, msg_start, len(result))\n"
          ]
        },
        {
          "output_type": "stream",
          "name": "stdout",
          "text": [
            "              precision    recall  f1-score   support\n",
            "\n",
            "      action       0.52      0.25      0.34      1314\n",
            "       adult       0.65      0.20      0.31       590\n",
            "   adventure       0.74      0.15      0.25       775\n",
            "   animation       0.63      0.02      0.05       498\n",
            "   biography       0.00      0.00      0.00       264\n",
            "      comedy       0.54      0.60      0.57      7446\n",
            "       crime       0.44      0.02      0.04       505\n",
            " documentary       0.67      0.88      0.76     13096\n",
            "       drama       0.54      0.80      0.64     13612\n",
            "      family       0.51      0.06      0.11       783\n",
            "     fantasy       0.60      0.01      0.02       322\n",
            "   game-show       0.91      0.48      0.63       193\n",
            "     history       0.00      0.00      0.00       243\n",
            "      horror       0.67      0.56      0.61      2204\n",
            "       music       0.69      0.41      0.52       731\n",
            "     musical       1.00      0.01      0.01       276\n",
            "     mystery       0.00      0.00      0.00       318\n",
            "        news       0.78      0.04      0.07       181\n",
            "  reality-tv       0.52      0.19      0.27       883\n",
            "     romance       0.39      0.01      0.02       672\n",
            "      sci-fi       0.61      0.22      0.32       646\n",
            "       short       0.51      0.31      0.39      5072\n",
            "       sport       0.81      0.24      0.37       431\n",
            "   talk-show       0.63      0.16      0.25       391\n",
            "    thriller       0.43      0.11      0.17      1590\n",
            "         war       1.00      0.01      0.02       132\n",
            "     western       0.92      0.69      0.79      1032\n",
            "\n",
            "    accuracy                           0.59     54200\n",
            "   macro avg       0.58      0.24      0.28     54200\n",
            "weighted avg       0.58      0.59      0.54     54200\n",
            "\n"
          ]
        },
        {
          "output_type": "stream",
          "name": "stderr",
          "text": [
            "/usr/local/lib/python3.10/dist-packages/sklearn/metrics/_classification.py:1344: UndefinedMetricWarning: Precision and F-score are ill-defined and being set to 0.0 in labels with no predicted samples. Use `zero_division` parameter to control this behavior.\n",
            "  _warn_prf(average, modifier, msg_start, len(result))\n"
          ]
        }
      ]
    },
    {
      "cell_type": "code",
      "source": [
        "from sklearn.model_selection import GridSearchCV\n",
        "from sklearn.linear_model import LogisticRegression\n",
        "\n",
        "# Define the parameter grid to search\n",
        "param_grid_lr = {\n",
        "    'C': [0.1, 1, 10],        # Regularization parameter\n",
        "    'solver': ['liblinear', 'saga'],  # Algorithm to use in the optimization problem\n",
        "    'max_iter': [100, 500, 1000]  # Maximum number of iterations\n",
        "}\n",
        "\n",
        "# Initialize the logistic regression classifier\n",
        "lr_classifier = LogisticRegression()\n",
        "\n",
        "# Initialize the grid search with the classifier and parameter grid\n",
        "grid_search_lr = GridSearchCV(lr_classifier, param_grid_lr, cv=5, n_jobs=-1)\n",
        "\n",
        "# Perform grid search to find the best hyperparameters\n",
        "grid_search_lr.fit(X_train_tfidf, y_train)\n",
        "\n",
        "# Print the best hyperparameters found\n",
        "print(\"Best hyperparameters:\", grid_search_lr.best_params_)\n",
        "\n",
        "# Get the best model\n",
        "best_lr_classifier = grid_search_lr.best_estimator_\n",
        "\n",
        "# Predict the labels for the test data using the best model\n",
        "y_pred_best_lr = best_lr_classifier.predict(X_test_tfidf)\n",
        "\n",
        "# Calculate accuracy\n",
        "accuracy_best_lr = accuracy_score(y_test, y_pred_best_lr)\n",
        "print(\"Accuracy (Best Model - Logistic Regression):\", accuracy_best_lr)\n",
        "\n",
        "# Generate classification report for the best model\n",
        "print(\"Classification Report (Best Model - Logistic Regression):\")\n",
        "print(classification_report(y_test, y_pred_best_lr))\n"
      ],
      "metadata": {
        "colab": {
          "base_uri": "https://localhost:8080/"
        },
        "id": "y7JID9rzXxdE",
        "outputId": "45b52109-e964-45d6-9773-081cb9a6627e"
      },
      "execution_count": 24,
      "outputs": [
        {
          "output_type": "stream",
          "name": "stdout",
          "text": [
            "Best hyperparameters: {'C': 10, 'max_iter': 100, 'solver': 'liblinear'}\n",
            "Accuracy (Best Model - Logistic Regression): 0.5983579335793358\n",
            "Classification Report (Best Model - Logistic Regression):\n",
            "              precision    recall  f1-score   support\n",
            "\n",
            "      action       0.47      0.34      0.39      1314\n",
            "       adult       0.67      0.37      0.47       590\n",
            "   adventure       0.58      0.21      0.31       775\n",
            "   animation       0.49      0.10      0.17       498\n",
            "   biography       0.00      0.00      0.00       264\n",
            "      comedy       0.56      0.60      0.58      7446\n",
            "       crime       0.32      0.06      0.10       505\n",
            " documentary       0.70      0.85      0.76     13096\n",
            "       drama       0.56      0.75      0.64     13612\n",
            "      family       0.45      0.14      0.21       783\n",
            "     fantasy       0.35      0.07      0.12       322\n",
            "   game-show       0.90      0.60      0.72       193\n",
            "     history       0.50      0.01      0.02       243\n",
            "      horror       0.66      0.61      0.63      2204\n",
            "       music       0.67      0.50      0.57       731\n",
            "     musical       0.39      0.06      0.11       276\n",
            "     mystery       0.28      0.03      0.05       318\n",
            "        news       0.62      0.10      0.17       181\n",
            "  reality-tv       0.51      0.27      0.35       883\n",
            "     romance       0.36      0.06      0.10       672\n",
            "      sci-fi       0.59      0.32      0.42       646\n",
            "       short       0.44      0.36      0.40      5072\n",
            "       sport       0.69      0.36      0.48       431\n",
            "   talk-show       0.62      0.28      0.38       391\n",
            "    thriller       0.37      0.18      0.24      1590\n",
            "         war       0.67      0.12      0.21       132\n",
            "     western       0.90      0.79      0.84      1032\n",
            "\n",
            "    accuracy                           0.60     54200\n",
            "   macro avg       0.53      0.30      0.35     54200\n",
            "weighted avg       0.58      0.60      0.57     54200\n",
            "\n"
          ]
        }
      ]
    }
  ],
  "metadata": {
    "colab": {
      "provenance": []
    },
    "kernelspec": {
      "display_name": "Python 3",
      "name": "python3"
    },
    "language_info": {
      "name": "python"
    }
  },
  "nbformat": 4,
  "nbformat_minor": 0
}